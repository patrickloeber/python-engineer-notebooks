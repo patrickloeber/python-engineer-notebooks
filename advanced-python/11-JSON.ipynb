{
 "cells": [
  {
   "cell_type": "markdown",
   "metadata": {},
   "source": [
    "[![Open in Colab](https://colab.research.google.com/assets/colab-badge.svg)](https://colab.research.google.com/github/python-engineer/python-engineer-notebooks/blob/master/advanced-python/11-JSON.ipynb)"
   ]
  },
  {
   "cell_type": "markdown",
   "metadata": {},
   "source": [
    "# JSON\n",
    "JSON (JavaScript Object Notation) is a leightweight data format for data exchange. In Python you have the built-in `json` module for encoding and decoding JSON data. Simply import it and you are ready to work with JSON data:\n",
    "\n",
    "```python\n",
    "import json\n",
    "```  \n",
    "\n",
    "Some advantages of JSON:\n",
    "- JSON exists as a \"sequence of bytes\" which is very useful in the case we need to transmit (stream) data over a network.\n",
    "- Compared to XML, JSON is much smaller, translating into faster data transfers, and better experiences.\n",
    "- JSON is extremely human-friendly since it is textual, and simultaneously machine-friendly."
   ]
  },
  {
   "cell_type": "markdown",
   "metadata": {},
   "source": [
    "## JSON format"
   ]
  },
  {
   "cell_type": "code",
   "execution_count": null,
   "metadata": {},
   "outputs": [],
   "source": [
    "{\n",
    "    \"firstName\": \"Jane\",\n",
    "    \"lastName\": \"Doe\",\n",
    "    \"hobbies\": [\"running\", \"swimming\", \"singing\"],\n",
    "    \"age\": 28,\n",
    "    \"children\": [\n",
    "        {\n",
    "            \"firstName\": \"Alex\",\n",
    "            \"age\": 5\n",
    "        },\n",
    "        {\n",
    "            \"firstName\": \"Bob\",\n",
    "            \"age\": 7\n",
    "        }\n",
    "    ]\n",
    "}"
   ]
  },
  {
   "cell_type": "markdown",
   "metadata": {},
   "source": [
    "JSON supports primitive types (strings, numbers, boolean), as well as nested arrays and objects. Simple Python objects are translated to JSON according to the following conversion:  \n",
    "\n",
    "| Python |    JSON |\n",
    "| :--- | ---: |\n",
    "| dict | object |\n",
    "| list, tuple | array |\n",
    "| str | string |\n",
    "| int, long, float | number |\n",
    "| True | true |\n",
    "| False | false |\n",
    "| None | null |"
   ]
  },
  {
   "cell_type": "markdown",
   "metadata": {},
   "source": [
    "## From Python to JSON (Serialization, Encode)\n",
    "Convert Python objects into a JSON string with the `json.dumps()` method."
   ]
  },
  {
   "cell_type": "code",
   "execution_count": 33,
   "metadata": {},
   "outputs": [
    {
     "name": "stdout",
     "output_type": "stream",
     "text": [
      "{\"name\": \"John\", \"age\": 30, \"city\": \"New York\", \"hasChildren\": false, \"titles\": [\"engineer\", \"programmer\"]}\n",
      "{\n",
      "    \"age\"= 30; \n",
      "    \"city\"= \"New York\"; \n",
      "    \"hasChildren\"= false; \n",
      "    \"name\"= \"John\"; \n",
      "    \"titles\"= [\n",
      "        \"engineer\"; \n",
      "        \"programmer\"\n",
      "    ]\n",
      "}\n"
     ]
    }
   ],
   "source": [
    "import json\n",
    "\n",
    "person = {\"name\": \"John\", \"age\": 30, \"city\": \"New York\", \"hasChildren\": False, \"titles\": [\"engineer\", \"programmer\"]}\n",
    "\n",
    "# convert into JSON:\n",
    "person_json = json.dumps(person)\n",
    "# use different formatting style\n",
    "person_json2 = json.dumps(person, indent=4, separators=(\"; \", \"= \"), sort_keys=True)\n",
    "\n",
    "# the result is a JSON string:\n",
    "print(person_json) \n",
    "print(person_json2) "
   ]
  },
  {
   "cell_type": "markdown",
   "metadata": {},
   "source": [
    "Or convert Python objects into JSON objects and save them into a file with the `json.dump()` method."
   ]
  },
  {
   "cell_type": "code",
   "execution_count": 34,
   "metadata": {
    "collapsed": true
   },
   "outputs": [],
   "source": [
    "import json\n",
    "\n",
    "person = {\"name\": \"John\", \"age\": 30, \"city\": \"New York\", \"hasChildren\": False, \"titles\": [\"engineer\", \"programmer\"]}\n",
    "\n",
    "with open('person.json', 'w') as f:\n",
    "    json.dump(person, f) # you can also specify indent etc..."
   ]
  },
  {
   "cell_type": "markdown",
   "metadata": {},
   "source": [
    "## FROM JSON to Python (Deserialization, Decode)\n",
    "Convert a JSON string into a Python object with the `json.loads()` method. The result will be a **Python dictionary**."
   ]
  },
  {
   "cell_type": "code",
   "execution_count": 35,
   "metadata": {},
   "outputs": [
    {
     "name": "stdout",
     "output_type": "stream",
     "text": [
      "{'age': 30, 'city': 'New York', 'hasChildren': False, 'name': 'John', 'titles': ['engineer', 'programmer']}\n"
     ]
    }
   ],
   "source": [
    "import json\n",
    "person_json = \"\"\"\n",
    "{\n",
    "    \"age\": 30, \n",
    "    \"city\": \"New York\",\n",
    "    \"hasChildren\": false, \n",
    "    \"name\": \"John\",\n",
    "    \"titles\": [\n",
    "        \"engineer\",\n",
    "        \"programmer\"\n",
    "    ]\n",
    "}\n",
    "\"\"\"\n",
    "person = json.loads(person_json)\n",
    "print(person)"
   ]
  },
  {
   "cell_type": "markdown",
   "metadata": {},
   "source": [
    "Or load data from a file and convert it to a Python object with the `json.load()` method."
   ]
  },
  {
   "cell_type": "code",
   "execution_count": 36,
   "metadata": {},
   "outputs": [
    {
     "name": "stdout",
     "output_type": "stream",
     "text": [
      "{'name': 'John', 'age': 30, 'city': 'New York', 'hasChildren': False, 'titles': ['engineer', 'programmer']}\n"
     ]
    }
   ],
   "source": [
    "import json\n",
    "\n",
    "with open('person.json', 'r') as f:\n",
    "    person = json.load(f)\n",
    "    print(person)"
   ]
  },
  {
   "cell_type": "markdown",
   "metadata": {},
   "source": [
    "## Working with Custom Objects\n",
    "#### Encoding\n",
    "Encoding a custom object with the default `JSONEncoder` will raise a `TypeError`. We can specify a custom encoding function that will store the class name and all object variables in a dictionary. Use this function for the `default` argument in the `json.dump()` method."
   ]
  },
  {
   "cell_type": "code",
   "execution_count": 1,
   "metadata": {},
   "outputs": [
    {
     "name": "stdout",
     "output_type": "stream",
     "text": [
      "{\"complex\": true, \"real\": 5.0, \"imag\": 9.0}\n"
     ]
    }
   ],
   "source": [
    "import json\n",
    "def encode_complex(z):\n",
    "    if isinstance(z, complex):\n",
    "        # just the key of the class name is important, the value can be arbitrary.\n",
    "        return {z.__class__.__name__: True, \"real\":z.real, \"imag\":z.imag}\n",
    "    else:\n",
    "        raise TypeError(f\"Object of type '{z.__class__.__name__}' is not JSON serializable\")\n",
    "\n",
    "z = 5 + 9j\n",
    "zJSON = json.dumps(z, default=encode_complex)\n",
    "print(zJSON)"
   ]
  },
  {
   "cell_type": "markdown",
   "metadata": {},
   "source": [
    "You can also create a custom Encoder class, and overwrite the `default()` method. Use this for the `cls` argument in the `json.dump()` method, or use the encoder directly."
   ]
  },
  {
   "cell_type": "code",
   "execution_count": 38,
   "metadata": {},
   "outputs": [
    {
     "name": "stdout",
     "output_type": "stream",
     "text": [
      "{\"complex\": true, \"real\": 5.0, \"imag\": 9.0}\n",
      "{\"complex\": true, \"real\": 5.0, \"imag\": 9.0}\n"
     ]
    }
   ],
   "source": [
    "from json import JSONEncoder\n",
    "class ComplexEncoder(JSONEncoder):\n",
    "    \n",
    "    def default(self, o):\n",
    "        if isinstance(z, complex):\n",
    "            return {z.__class__.__name__: True, \"real\":z.real, \"imag\":z.imag}\n",
    "        # Let the base class default method handle other objects or raise a TypeError\n",
    "        return JSONEncoder.default(self, o)\n",
    "    \n",
    "z = 5 + 9j\n",
    "zJSON = json.dumps(z, cls=ComplexEncoder)\n",
    "print(zJSON)\n",
    "# or use encoder directly:\n",
    "zJson = ComplexEncoder().encode(z)\n",
    "print(zJSON)"
   ]
  },
  {
   "cell_type": "markdown",
   "metadata": {},
   "source": [
    "#### Decoding\n",
    "Decoding a custom object with the defaut `JSONDecoder` is possible, but it will be decoded into a dictionary. Write a custom decode function that will take a dictionary as input, and creates your custom object if it can find the object class name in the dictionary. Use this function for the `object_hook` argument in the `json.load()` method."
   ]
  },
  {
   "cell_type": "code",
   "execution_count": 39,
   "metadata": {},
   "outputs": [
    {
     "name": "stdout",
     "output_type": "stream",
     "text": [
      "<class 'dict'>\n",
      "{'complex': True, 'real': 5.0, 'imag': 9.0}\n",
      "<class 'complex'>\n",
      "(5+9j)\n"
     ]
    }
   ],
   "source": [
    "# Possible but decoded as a dictionary\n",
    "z = json.loads(zJSON)\n",
    "print(type(z))\n",
    "print(z)\n",
    "\n",
    "def decode_complex(dct):\n",
    "    if complex.__name__ in dct:\n",
    "        return complex(dct[\"real\"], dct[\"imag\"])\n",
    "    return dct\n",
    "\n",
    "# Now the object is of type complex after decoding\n",
    "z = json.loads(zJSON, object_hook=decode_complex)\n",
    "print(type(z))\n",
    "print(z)"
   ]
  },
  {
   "cell_type": "markdown",
   "metadata": {},
   "source": [
    "## Template encode and decode functions\n",
    "This works for all custom classes if all instance variables are given in the `__init__` method."
   ]
  },
  {
   "cell_type": "code",
   "execution_count": 2,
   "metadata": {},
   "outputs": [
    {
     "name": "stdout",
     "output_type": "stream",
     "text": [
      "{\n",
      "    \"__class__\": \"User\",\n",
      "    \"__module__\": \"__main__\",\n",
      "    \"active\": true,\n",
      "    \"age\": 28,\n",
      "    \"balance\": 20.7,\n",
      "    \"friends\": [\n",
      "        \"Jane\",\n",
      "        \"Tom\"\n",
      "    ],\n",
      "    \"name\": \"John\"\n",
      "}\n",
      "<class '__main__.User'>\n",
      "{\n",
      "    \"__class__\": \"Player\",\n",
      "    \"__module__\": \"__main__\",\n",
      "    \"level\": 5,\n",
      "    \"name\": \"Max\",\n",
      "    \"nickname\": \"max1234\"\n",
      "}\n",
      "<class '__main__.Player'>\n"
     ]
    }
   ],
   "source": [
    "class User:\n",
    "    # Custom class with all instance variables given in the __init__()\n",
    "    def __init__(self, name, age, active, balance, friends):\n",
    "        self.name = name\n",
    "        self.age = age\n",
    "        self.active = active\n",
    "        self.balance = balance\n",
    "        self.friends = friends\n",
    "        \n",
    "class Player:\n",
    "    # Other custom class\n",
    "    def __init__(self, name, nickname, level):\n",
    "        self.name = name\n",
    "        self.nickname = nickname\n",
    "        self.level = level\n",
    "          \n",
    "            \n",
    "def encode_obj(obj):\n",
    "    \"\"\"\n",
    "    Takes in a custom object and returns a dictionary representation of the object.\n",
    "    This dict representation also includes the object's module and class names.\n",
    "    \"\"\"\n",
    "  \n",
    "    #  Populate the dictionary with object meta data \n",
    "    obj_dict = {\n",
    "      \"__class__\": obj.__class__.__name__,\n",
    "      \"__module__\": obj.__module__\n",
    "    }\n",
    "  \n",
    "    #  Populate the dictionary with object properties\n",
    "    obj_dict.update(obj.__dict__)\n",
    "  \n",
    "    return obj_dict\n",
    "\n",
    "\n",
    "def decode_dct(dct):\n",
    "    \"\"\"\n",
    "    Takes in a dict and returns a custom object associated with the dict.\n",
    "    It makes use of the \"__module__\" and \"__class__\" metadata in the dictionary\n",
    "    to know which object type to create.\n",
    "    \"\"\"\n",
    "    if \"__class__\" in dct:\n",
    "        # Pop ensures we remove metadata from the dict to leave only the instance arguments\n",
    "        class_name = dct.pop(\"__class__\")\n",
    "        \n",
    "        # Get the module name from the dict and import it\n",
    "        module_name = dct.pop(\"__module__\")\n",
    "        \n",
    "        # We use the built in __import__ function since the module name is not yet known at runtime\n",
    "        module = __import__(module_name)\n",
    "        \n",
    "        # Get the class from the module\n",
    "        class_ = getattr(module,class_name)\n",
    "\n",
    "        # Use dictionary unpacking to initialize the object\n",
    "        # Note: This only works if all __init__() arguments of the class are exactly the dict keys\n",
    "        obj = class_(**dct)\n",
    "    else:\n",
    "        obj = dct\n",
    "    return obj\n",
    "\n",
    "# User class works with our encoding and decoding methods\n",
    "user = User(name = \"John\",age = 28, friends = [\"Jane\", \"Tom\"], balance = 20.70, active = True)\n",
    "\n",
    "userJSON = json.dumps(user,default=encode_obj,indent=4, sort_keys=True)\n",
    "print(userJSON)\n",
    "\n",
    "user_decoded = json.loads(userJSON, object_hook=decode_dct)\n",
    "print(type(user_decoded))\n",
    "\n",
    "# Player class also works with our custom encoding and decoding\n",
    "player = Player('Max', 'max1234', 5)\n",
    "playerJSON = json.dumps(player,default=encode_obj,indent=4, sort_keys=True)\n",
    "print(playerJSON)\n",
    "\n",
    "player_decoded = json.loads(playerJSON, object_hook=decode_dct)\n",
    "print(type(player_decoded))"
   ]
  }
 ],
 "metadata": {
  "kernelspec": {
   "display_name": "Python [conda env:pythonengineer_env]",
   "language": "python",
   "name": "conda-env-pythonengineer_env-py"
  },
  "language_info": {
   "codemirror_mode": {
    "name": "ipython",
    "version": 3
   },
   "file_extension": ".py",
   "mimetype": "text/x-python",
   "name": "python",
   "nbconvert_exporter": "python",
   "pygments_lexer": "ipython3",
   "version": "3.7.3"
  }
 },
 "nbformat": 4,
 "nbformat_minor": 2
}
