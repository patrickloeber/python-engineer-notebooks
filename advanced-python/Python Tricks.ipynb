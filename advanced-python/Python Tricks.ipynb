{
 "cells": [
  {
   "cell_type": "markdown",
   "metadata": {},
   "source": [
    "[![Open in Colab](https://colab.research.google.com/assets/colab-badge.svg)](https://colab.research.google.com/github/python-engineer/python-engineer-notebooks/blob/master/advanced-python/Python%20Tricks.ipynb)"
   ]
  },
  {
   "cell_type": "markdown",
   "metadata": {},
   "source": [
    "# Python Tricks"
   ]
  },
  {
   "cell_type": "markdown",
   "metadata": {},
   "source": [
    "#### Value swapping"
   ]
  },
  {
   "cell_type": "code",
   "execution_count": 1,
   "metadata": {},
   "outputs": [
    {
     "name": "stdout",
     "output_type": "stream",
     "text": [
      "5 10\n",
      "10 5\n",
      "Initial list : [1, 2, 3, 4, 5]\n",
      "Modified list: [2, 1, 3, 4, 5]\n"
     ]
    }
   ],
   "source": [
    "a, b = 5, 10\n",
    "print(a, b)\n",
    "a, b = b, a\n",
    "print(a, b)\n",
    "# also possible in a list\n",
    "myList = [1, 2, 3, 4, 5]\n",
    "print(\"Initial list :\", myList)\n",
    "myList[0], myList[1] = myList[1], myList[0]\n",
    "print(\"Modified list:\", myList)"
   ]
  },
  {
   "cell_type": "markdown",
   "metadata": {},
   "source": [
    "#### Create a single string from list"
   ]
  },
  {
   "cell_type": "code",
   "execution_count": 2,
   "metadata": {},
   "outputs": [
    {
     "name": "stdout",
     "output_type": "stream",
     "text": [
      "I am awesome \n",
      "I am awesome\n"
     ]
    }
   ],
   "source": [
    "my_list = [\"I\", \"am\", \"awesome\"]\n",
    "\n",
    "# bad\n",
    "a = \"\"\n",
    "for i in my_list:\n",
    "    a += i + \" \"\n",
    "print(a)\n",
    "\n",
    "# good\n",
    "a = \" \".join(my_list)\n",
    "print(a)"
   ]
  },
  {
   "cell_type": "code",
   "execution_count": 3,
   "metadata": {},
   "outputs": [
    {
     "name": "stdout",
     "output_type": "stream",
     "text": [
      "0.4564969649999999\n",
      "0.0229722050000003\n"
     ]
    }
   ],
   "source": [
    "# join method is much faster\n",
    "from timeit import default_timer as timer\n",
    "my_list = [\"a\"] * 1000000\n",
    "\n",
    "# bad\n",
    "start = timer()\n",
    "a = \"\"\n",
    "for i in my_list:\n",
    "    a += i\n",
    "end = timer()\n",
    "print(end - start)\n",
    "#print(a)\n",
    "\n",
    "# good\n",
    "start = timer()\n",
    "a = \" \".join(my_list)\n",
    "end = timer()\n",
    "print(end - start)\n",
    "#print(a)"
   ]
  }
 ],
 "metadata": {
  "kernelspec": {
   "display_name": "Python [conda env:pythonengineer_env]",
   "language": "python",
   "name": "conda-env-pythonengineer_env-py"
  },
  "language_info": {
   "codemirror_mode": {
    "name": "ipython",
    "version": 3
   },
   "file_extension": ".py",
   "mimetype": "text/x-python",
   "name": "python",
   "nbconvert_exporter": "python",
   "pygments_lexer": "ipython3",
   "version": "3.7.3"
  }
 },
 "nbformat": 4,
 "nbformat_minor": 2
}
