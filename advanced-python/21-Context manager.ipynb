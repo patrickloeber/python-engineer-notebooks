{
 "cells": [
  {
   "cell_type": "markdown",
   "metadata": {},
   "source": [
    "[![Open in Colab](https://colab.research.google.com/assets/colab-badge.svg)](https://colab.research.google.com/github/python-engineer/python-engineer-notebooks/blob/master/advanced-python/21-Context%20manager.ipynb)"
   ]
  },
  {
   "cell_type": "markdown",
   "metadata": {},
   "source": [
    "# Context managers and the 'with' statement\n",
    "Context managers are a great tool for resource management. They allow you to allocate and release resources precisely when you want to. A well-known example is the `with open()` statemtent:"
   ]
  },
  {
   "cell_type": "code",
   "execution_count": 21,
   "metadata": {
    "collapsed": true
   },
   "outputs": [],
   "source": [
    "with open('notes.txt', 'w') as f:\n",
    "    f.write('some todo...')"
   ]
  },
  {
   "cell_type": "markdown",
   "metadata": {},
   "source": [
    "This will open a file and makes sure to automatically close it after program execution leaves the context of the with statement. It also handles exceptions and makes sure to properly close the file even in case of an exception. Internally, the above code translates to something like this:"
   ]
  },
  {
   "cell_type": "code",
   "execution_count": 22,
   "metadata": {
    "collapsed": true
   },
   "outputs": [],
   "source": [
    "f = open('notes.txt', 'w')\n",
    "try:\n",
    "    f.write('some todo...')\n",
    "finally:\n",
    "    f.close()"
   ]
  },
  {
   "cell_type": "markdown",
   "metadata": {},
   "source": [
    "We can see that using a context manager and the `with` statement is much shorter and more concise."
   ]
  },
  {
   "cell_type": "markdown",
   "metadata": {},
   "source": [
    "## Examples of context managers\n",
    "- Open and close files\n",
    "- open and close database connections\n",
    "- Acquire and release locks:\n",
    "\n",
    "```python\n",
    "from threading import Lock\n",
    "lock = Lock()\n",
    "\n",
    "# error-prone:\n",
    "lock.acquire()\n",
    "# do stuff\n",
    "# lock should always be released!\n",
    "lock.release()\n",
    "\n",
    "# Better:\n",
    "with lock:\n",
    "    # do stuff\n",
    "```"
   ]
  },
  {
   "cell_type": "markdown",
   "metadata": {},
   "source": [
    "## Implementing a context manager as a class\n",
    "To support the `with` statement for our own classes, we have to implement the `__enter__` and `__exit__` methods. Python calls `__enter__` when execution enters the context of the `with` statement. In here the resource should be acquired and returned. When execution leaves the context again, `__exit__` is called and the resource is freed up."
   ]
  },
  {
   "cell_type": "code",
   "execution_count": 23,
   "metadata": {},
   "outputs": [
    {
     "name": "stdout",
     "output_type": "stream",
     "text": [
      "init notes.txt\n",
      "enter\n",
      "doing stuff...\n",
      "exit\n"
     ]
    }
   ],
   "source": [
    "class ManagedFile:\n",
    "    def __init__(self, filename):\n",
    "        print('init', filename)\n",
    "        self.filename = filename\n",
    "        \n",
    "    def __enter__(self):\n",
    "        print('enter')\n",
    "        self.file = open(self.filename, 'w')\n",
    "        return self.file\n",
    "        \n",
    "    def __exit__(self, exc_type, exc_value, exc_traceback):\n",
    "        if self.file:\n",
    "            self.file.close()\n",
    "        print('exit')\n",
    "            \n",
    "with ManagedFile('notes.txt') as f:\n",
    "    print('doing stuff...')\n",
    "    f.write('some todo...')"
   ]
  },
  {
   "cell_type": "markdown",
   "metadata": {},
   "source": [
    "#### Handling exceptions\n",
    "If an exception occurs, Python passes the type, value, and traceback to the `__exit__` method. It can handle the exception here. If anything other than `True` is returned by the `__exit__` method, then the exception is raised by the `with` statement."
   ]
  },
  {
   "cell_type": "code",
   "execution_count": 24,
   "metadata": {},
   "outputs": [
    {
     "name": "stdout",
     "output_type": "stream",
     "text": [
      "init notes.txt\n",
      "enter\n",
      "doing stuff...\n",
      "exc: None None\n",
      "exit\n",
      "continuing...\n",
      "\n",
      "init notes2.txt\n",
      "enter\n",
      "doing stuff...\n",
      "exc: <class 'AttributeError'> '_io.TextIOWrapper' object has no attribute 'do_something'\n",
      "exit\n"
     ]
    },
    {
     "ename": "AttributeError",
     "evalue": "'_io.TextIOWrapper' object has no attribute 'do_something'",
     "output_type": "error",
     "traceback": [
      "\u001b[1;31m---------------------------------------------------------------------------\u001b[0m",
      "\u001b[1;31mAttributeError\u001b[0m                            Traceback (most recent call last)",
      "\u001b[1;32m<ipython-input-24-ed1604efb530>\u001b[0m in \u001b[0;36m<module>\u001b[1;34m\u001b[0m\n\u001b[0;32m     27\u001b[0m     \u001b[0mprint\u001b[0m\u001b[1;33m(\u001b[0m\u001b[1;34m'doing stuff...'\u001b[0m\u001b[1;33m)\u001b[0m\u001b[1;33m\u001b[0m\u001b[1;33m\u001b[0m\u001b[0m\n\u001b[0;32m     28\u001b[0m     \u001b[0mf\u001b[0m\u001b[1;33m.\u001b[0m\u001b[0mwrite\u001b[0m\u001b[1;33m(\u001b[0m\u001b[1;34m'some todo...'\u001b[0m\u001b[1;33m)\u001b[0m\u001b[1;33m\u001b[0m\u001b[1;33m\u001b[0m\u001b[0m\n\u001b[1;32m---> 29\u001b[1;33m     \u001b[0mf\u001b[0m\u001b[1;33m.\u001b[0m\u001b[0mdo_something\u001b[0m\u001b[1;33m(\u001b[0m\u001b[1;33m)\u001b[0m\u001b[1;33m\u001b[0m\u001b[1;33m\u001b[0m\u001b[0m\n\u001b[0m\u001b[0;32m     30\u001b[0m \u001b[0mprint\u001b[0m\u001b[1;33m(\u001b[0m\u001b[1;34m'continuing...'\u001b[0m\u001b[1;33m)\u001b[0m\u001b[1;33m\u001b[0m\u001b[1;33m\u001b[0m\u001b[0m\n",
      "\u001b[1;31mAttributeError\u001b[0m: '_io.TextIOWrapper' object has no attribute 'do_something'"
     ]
    }
   ],
   "source": [
    "class ManagedFile:\n",
    "    def __init__(self, filename):\n",
    "        print('init', filename)\n",
    "        self.filename = filename\n",
    "        \n",
    "    def __enter__(self):\n",
    "        print('enter')\n",
    "        self.file = open(self.filename, 'w')\n",
    "        return self.file\n",
    "        \n",
    "    def __exit__(self, exc_type, exc_value, exc_traceback):\n",
    "        if self.file:\n",
    "            self.file.close()\n",
    "        print('exc:', exc_type, exc_value)\n",
    "        print('exit')\n",
    "\n",
    "# No exception\n",
    "with ManagedFile('notes.txt') as f:\n",
    "    print('doing stuff...')\n",
    "    f.write('some todo...')\n",
    "print('continuing...')\n",
    "\n",
    "print()\n",
    "\n",
    "# Exception is raised, but the file can still be closed\n",
    "with ManagedFile('notes2.txt') as f:\n",
    "    print('doing stuff...')\n",
    "    f.write('some todo...')\n",
    "    f.do_something()\n",
    "print('continuing...')"
   ]
  },
  {
   "cell_type": "markdown",
   "metadata": {},
   "source": [
    "We can handle the exception in the `__exit__` method and return `True`."
   ]
  },
  {
   "cell_type": "code",
   "execution_count": 25,
   "metadata": {},
   "outputs": [
    {
     "name": "stdout",
     "output_type": "stream",
     "text": [
      "init notes2.txt\n",
      "enter\n",
      "doing stuff...\n",
      "Exception has been handled\n",
      "exit\n",
      "continuing...\n"
     ]
    }
   ],
   "source": [
    "class ManagedFile:\n",
    "    def __init__(self, filename):\n",
    "        print('init', filename)\n",
    "        self.filename = filename\n",
    "        \n",
    "    def __enter__(self):\n",
    "        print('enter')\n",
    "        self.file = open(self.filename, 'w')\n",
    "        return self.file\n",
    "        \n",
    "    def __exit__(self, exc_type, exc_value, exc_traceback):\n",
    "        if self.file:\n",
    "            self.file.close()\n",
    "        if exc_type is not None:\n",
    "            print('Exception has been handled')\n",
    "        print('exit')\n",
    "        return True\n",
    "\n",
    "\n",
    "with ManagedFile('notes2.txt') as f:\n",
    "    print('doing stuff...')\n",
    "    f.write('some todo...')\n",
    "    f.do_something()\n",
    "print('continuing...')"
   ]
  },
  {
   "cell_type": "markdown",
   "metadata": {},
   "source": [
    "## Implementing a context manager as a generator\n",
    "Instead of writing a class, we can also write a generator function and decorate it with the `contextlib.contextmanager` decorator. Then we can also call the function using a `with` statement. For this approach, the function must `yield` the resource in a `try` statement, and all the content of the `__exit__` method to free up the resource goes now inside the corresponding `finally` statement."
   ]
  },
  {
   "cell_type": "code",
   "execution_count": 26,
   "metadata": {
    "collapsed": true
   },
   "outputs": [],
   "source": [
    "from contextlib import contextmanager\n",
    "\n",
    "@contextmanager\n",
    "def open_managed_file(filename):\n",
    "    f = open(filename, 'w')\n",
    "    try:\n",
    "        yield f\n",
    "    finally:\n",
    "        f.close()\n",
    "        \n",
    "with open_managed_file('notes.txt') as f:\n",
    "    f.write('some todo...')"
   ]
  },
  {
   "cell_type": "markdown",
   "metadata": {},
   "source": [
    "The generator first acquires the resource. It then temporarily suspends its own execution and *yields* the resource so it can be used by the caller. When the caller leaves the `with` context, the generator continues to execute and frees up the resource in the `finally` statement."
   ]
  }
 ],
 "metadata": {
  "kernelspec": {
   "display_name": "Python [conda env:pythonengineer_env]",
   "language": "python",
   "name": "conda-env-pythonengineer_env-py"
  },
  "language_info": {
   "codemirror_mode": {
    "name": "ipython",
    "version": 3
   },
   "file_extension": ".py",
   "mimetype": "text/x-python",
   "name": "python",
   "nbconvert_exporter": "python",
   "pygments_lexer": "ipython3",
   "version": "3.7.3"
  }
 },
 "nbformat": 4,
 "nbformat_minor": 2
}
