{
 "cells": [
  {
   "cell_type": "markdown",
   "metadata": {},
   "source": [
    "[![Open in Colab](https://colab.research.google.com/assets/colab-badge.svg)](https://colab.research.google.com/github/python-engineer/python-engineer-notebooks/blob/master/advanced-python/05-Strings.ipynb)"
   ]
  },
  {
   "cell_type": "markdown",
   "metadata": {},
   "source": [
    "# Strings\n",
    "A string is a sequence of characters. String literals in Python are enclosed by either double or single quotes.\n",
    "\n",
    "`my_string = 'Hello'`\n",
    "\n",
    "Python strings are immutable which means they cannot be changed after they are created."
   ]
  },
  {
   "cell_type": "markdown",
   "metadata": {},
   "source": [
    "#### Creation"
   ]
  },
  {
   "cell_type": "code",
   "execution_count": 1,
   "metadata": {},
   "outputs": [
    {
     "name": "stdout",
     "output_type": "stream",
     "text": [
      "I' m a 'Geek'\n",
      "Hello\n",
      "World\n",
      "Hello World\n"
     ]
    }
   ],
   "source": [
    "# use singe or double quotes\n",
    "my_string = 'Hello'\n",
    "my_string = \"Hello\"\n",
    "my_string = \"I' m  a 'Geek'\"\n",
    "\n",
    "# escaping backslash\n",
    "my_string = 'I\\' m  a \"Geek\"'\n",
    "my_string = 'I\\' m a \\'Geek\\''\n",
    "print(my_string)\n",
    "\n",
    "# triple quotes for multiline strings\n",
    "my_string = \"\"\"Hello\n",
    "World\"\"\"\n",
    "print(my_string)\n",
    "\n",
    "# backslash if you want to continue in the next line\n",
    "my_string = \"Hello \\\n",
    "World\"\n",
    "print(my_string)"
   ]
  },
  {
   "cell_type": "markdown",
   "metadata": {},
   "source": [
    "#### Access characters and substrings"
   ]
  },
  {
   "cell_type": "code",
   "execution_count": 2,
   "metadata": {},
   "outputs": [
    {
     "name": "stdout",
     "output_type": "stream",
     "text": [
      "H\n",
      "el\n",
      "Hello\n",
      "World\n",
      "HloWrd\n",
      "dlroW olleH\n"
     ]
    }
   ],
   "source": [
    "my_string = \"Hello World\"\n",
    "\n",
    "# get character by referring to index\n",
    "b = my_string[0]\n",
    "print(b)\n",
    "\n",
    "# Substrings with slicing\n",
    "b = my_string[1:3] # Note that the last index is not included\n",
    "print(b)\n",
    "b = my_string[:5] # from beginning\n",
    "print(b)\n",
    "b = my_string[6:] # until the end\n",
    "print(b)\n",
    "b = my_string[::2] # start to end with every second item\n",
    "print(b)\n",
    "b = my_string[::-1] # reverse the string with a negative step:\n",
    "print(b)"
   ]
  },
  {
   "cell_type": "markdown",
   "metadata": {},
   "source": [
    "#### Concatenate two or more strings"
   ]
  },
  {
   "cell_type": "code",
   "execution_count": 3,
   "metadata": {},
   "outputs": [
    {
     "name": "stdout",
     "output_type": "stream",
     "text": [
      "Hello Tom\n"
     ]
    }
   ],
   "source": [
    "# concat strings with +\n",
    "greeting = \"Hello\"\n",
    "name = \"Tom\"\n",
    "sentence = greeting + ' ' + name\n",
    "print(sentence)"
   ]
  },
  {
   "cell_type": "markdown",
   "metadata": {},
   "source": [
    "#### Iterating"
   ]
  },
  {
   "cell_type": "code",
   "execution_count": 6,
   "metadata": {},
   "outputs": [
    {
     "name": "stdout",
     "output_type": "stream",
     "text": [
      "H\n",
      "e\n",
      "l\n",
      "l\n",
      "o\n"
     ]
    }
   ],
   "source": [
    "# Iterating over a string by using a for in loop\n",
    "my_string = 'Hello'\n",
    "for i in my_string:\n",
    "    print(i)"
   ]
  },
  {
   "cell_type": "markdown",
   "metadata": {},
   "source": [
    "#### Check if a character or substring exists"
   ]
  },
  {
   "cell_type": "code",
   "execution_count": 7,
   "metadata": {},
   "outputs": [
    {
     "name": "stdout",
     "output_type": "stream",
     "text": [
      "yes\n",
      "yes\n"
     ]
    }
   ],
   "source": [
    "if \"e\" in \"Hello\":\n",
    "    print(\"yes\")\n",
    "if \"llo\" in \"Hello\":\n",
    "    print(\"yes\")"
   ]
  },
  {
   "cell_type": "markdown",
   "metadata": {},
   "source": [
    "#### Useful methods"
   ]
  },
  {
   "cell_type": "code",
   "execution_count": 11,
   "metadata": {},
   "outputs": [
    {
     "name": "stdout",
     "output_type": "stream",
     "text": [
      "Hello World\n",
      "11\n",
      "HELLO WORLD\n",
      "hello world\n",
      "['how', 'are', 'you', 'doing']\n",
      "['one', 'two', 'three']\n",
      "True\n",
      "True\n",
      "4\n",
      "1\n",
      "Hello Universe\n",
      "How are you doing\n"
     ]
    }
   ],
   "source": [
    "my_string = \"     Hello World \"\n",
    "\n",
    "# remove white space\n",
    "my_string = my_string.strip()\n",
    "print(my_string)\n",
    "\n",
    "# number of characters\n",
    "print(len(my_string))\n",
    "\n",
    "# Upper and lower cases\n",
    "print(my_string.upper())\n",
    "print(my_string.lower())\n",
    "\n",
    "# startswith and endswith\n",
    "print(\"hello\".startswith(\"he\"))\n",
    "print(\"hello\".endswith(\"llo\"))\n",
    "\n",
    "# find first index of a given substring, -1 otherwise\n",
    "print(\"Hello\".find(\"o\"))\n",
    "\n",
    "# count number of characters/substrings\n",
    "print(\"Hello\".count(\"e\"))\n",
    "\n",
    "# replace a substring with another string (only if the substring is found)\n",
    "# Note: The original string stays the same\n",
    "message = \"Hello World\"\n",
    "new_message = message.replace(\"World\", \"Universe\")\n",
    "print(new_message)\n",
    "\n",
    "# split the string into a list\n",
    "my_string = \"how are you doing\"\n",
    "a = my_string.split() # default argument is \" \"\n",
    "print(a)\n",
    "my_string = \"one,two,three\"\n",
    "a = my_string.split(\",\")\n",
    "print(a)\n",
    "\n",
    "# join elements of a list into a string\n",
    "my_list = ['How', 'are', 'you', 'doing']\n",
    "a = ' '.join(my_list) # the given string is the separator, e.g. ' ' between each argument\n",
    "print(a)"
   ]
  },
  {
   "cell_type": "markdown",
   "metadata": {},
   "source": [
    "#### Format\n",
    "New style is with .format() and old style is with % operator."
   ]
  },
  {
   "cell_type": "code",
   "execution_count": 12,
   "metadata": {},
   "outputs": [
    {
     "name": "stdout",
     "output_type": "stream",
     "text": [
      "Hello Bob and Tom\n",
      "Hello Bob and Tom\n",
      "The integer value is 2\n",
      "The float value is 2.123\n",
      "The float value is 2.123400e+00\n",
      "The binary value is 10\n",
      "Hello Bob and Tom\n",
      "The decimal value is 10\n",
      "The float value is 10.123450\n",
      "The float value is 10.12\n"
     ]
    }
   ],
   "source": [
    "# use braces as placeholders\n",
    "a = \"Hello {0} and {1}\".format(\"Bob\", \"Tom\")\n",
    "print(a)\n",
    "\n",
    "# the positions are optional for the default order\n",
    "a = \"Hello {} and {}\".format(\"Bob\", \"Tom\")\n",
    "print(a)\n",
    "\n",
    "a = \"The integer value is {}\".format(2)\n",
    "print(a)\n",
    "\n",
    "# some special format rules for numbers\n",
    "a = \"The float value is {0:.3f}\".format(2.1234)\n",
    "print(a)\n",
    "a = \"The float value is {0:e}\".format(2.1234)\n",
    "print(a)\n",
    "a = \"The binary value is {0:b}\".format(2)\n",
    "print(a)\n",
    "\n",
    "# old style formatting by using % operator\n",
    "print(\"Hello %s and %s\" % (\"Bob\", \"Tom\")) # must be a tuple for multiple arguments\n",
    "val =  3.14159265359\n",
    "print(\"The decimal value is %d\" % val)\n",
    "print(\"The float value is %f\" % val)\n",
    "print(\"The float value is %.2f\" % val)"
   ]
  },
  {
   "cell_type": "markdown",
   "metadata": {},
   "source": [
    "#### f-Strings\n",
    "New since Python 3.6. Use the variables directly inside the braces."
   ]
  },
  {
   "cell_type": "code",
   "execution_count": 13,
   "metadata": {},
   "outputs": [
    {
     "name": "stdout",
     "output_type": "stream",
     "text": [
      "Hello, Eric. You are 25.\n",
      "Pi is 3.142\n",
      "The value is 120\n"
     ]
    }
   ],
   "source": [
    "name = \"Eric\"\n",
    "age = 25\n",
    "a = f\"Hello, {name}. You are {age}.\"\n",
    "print(a)\n",
    "pi = 3.14159\n",
    "a = f\"Pi is {pi:.3f}\"\n",
    "print(a)\n",
    "# f-Strings are evaluated at runtime, which allows expressions\n",
    "a = f\"The value is {2*60}\"\n",
    "print(a)"
   ]
  },
  {
   "cell_type": "markdown",
   "metadata": {},
   "source": [
    "#### More on immutability and concatenation"
   ]
  },
  {
   "cell_type": "code",
   "execution_count": 14,
   "metadata": {},
   "outputs": [
    {
     "name": "stdout",
     "output_type": "stream",
     "text": [
      "concat string with + : 0.34527\n",
      "concat string with join(): 0.01191\n"
     ]
    }
   ],
   "source": [
    "# since a string is immutable, adding strings with +,  or += always \n",
    "# creates a new string, and therefore is expensive for multiple operations\n",
    "# --> join method is much faster\n",
    "from timeit import default_timer as timer\n",
    "my_list = [\"a\"] * 1000000\n",
    "\n",
    "# bad\n",
    "start = timer()\n",
    "a = \"\"\n",
    "for i in my_list:\n",
    "    a += i\n",
    "end = timer()\n",
    "print(\"concatenate string with + : %.5f\" % (end - start))\n",
    "\n",
    "# good\n",
    "start = timer()\n",
    "a = \"\".join(my_list)\n",
    "end = timer()\n",
    "print(\"concatenate string with join(): %.5f\" % (end - start))"
   ]
  }
 ],
 "metadata": {
  "kernelspec": {
   "display_name": "Python [conda env:pythonengineer_env]",
   "language": "python",
   "name": "conda-env-pythonengineer_env-py"
  },
  "language_info": {
   "codemirror_mode": {
    "name": "ipython",
    "version": 3
   },
   "file_extension": ".py",
   "mimetype": "text/x-python",
   "name": "python",
   "nbconvert_exporter": "python",
   "pygments_lexer": "ipython3",
   "version": "3.7.3"
  }
 },
 "nbformat": 4,
 "nbformat_minor": 2
}
