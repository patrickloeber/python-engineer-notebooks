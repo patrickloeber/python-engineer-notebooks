{
 "cells": [
  {
   "cell_type": "markdown",
   "metadata": {},
   "source": [
    "[![Open in Colab](https://colab.research.google.com/assets/colab-badge.svg)](https://colab.research.google.com/github/python-engineer/python-engineer-notebooks/blob/master/advanced-python/12-RandomNumbers.ipynb)"
   ]
  },
  {
   "cell_type": "markdown",
   "metadata": {},
   "source": [
    "# Random Numbers\n",
    "Python defines a set of functions that are used to generate or manipulate random numbers. This article covers:\n",
    "\n",
    "- the `random` module\n",
    "- reproduce numbers with random.seed()\n",
    "- create cryptographically strong random numbers with the `secrets` module\n",
    "- create random nd arrays with `numpy.random`"
   ]
  },
  {
   "cell_type": "markdown",
   "metadata": {},
   "source": [
    "## The random module\n",
    "This module implements pseudo-random number generators for various distributions. It uses the Mersenne Twister algorithm (https://en.wikipedia.org/wiki/Mersenne_Twister) as its core generator. It is called pseudo-random, because the numbers seem random, but are reproducable."
   ]
  },
  {
   "cell_type": "code",
   "execution_count": 3,
   "metadata": {},
   "outputs": [
    {
     "name": "stdout",
     "output_type": "stream",
     "text": [
      "0.10426373452067317\n",
      "3.34983979352444\n",
      "3\n",
      "4\n",
      "-1.004568769635799\n",
      "E\n",
      "['G', 'C', 'B']\n",
      "['E', 'D', 'E']\n",
      "['D', 'I', 'G', 'H', 'E', 'B', 'C', 'F', 'A']\n"
     ]
    }
   ],
   "source": [
    "import random\n",
    "\n",
    "# random float in [0,1)\n",
    "a = random.random()\n",
    "print(a)\n",
    "\n",
    "# random float in range [a,b]\n",
    "a = random.uniform(1,10)\n",
    "print(a)\n",
    "\n",
    "# random integer in range [a,b]. b is included\n",
    "a = random.randint(1,10)\n",
    "print(a)\n",
    "\n",
    "# random integer in range [a,b). b is excluded\n",
    "a = random.randrange(1,10)\n",
    "print(a)\n",
    "\n",
    "# random float from a normal distribution with mu and sigma\n",
    "a = random.normalvariate(0, 1)\n",
    "print(a)\n",
    "\n",
    "# choose a random element from a sequence\n",
    "a = random.choice(list(\"ABCDEFGHI\"))\n",
    "print(a)\n",
    "\n",
    "# choose k unique random elements from a sequence\n",
    "a = random.sample(list(\"ABCDEFGHI\"), 3)\n",
    "print(a)\n",
    "\n",
    "# choose k elements with replacement, and return k sized list\n",
    "a = random.choices(list(\"ABCDEFGHI\"),k=3)\n",
    "print(a)\n",
    "\n",
    "# shuffle list in place\n",
    "a = list(\"ABCDEFGHI\")\n",
    "random.shuffle(a)\n",
    "print(a)"
   ]
  },
  {
   "cell_type": "markdown",
   "metadata": {},
   "source": [
    "## The seed generator"
   ]
  },
  {
   "cell_type": "markdown",
   "metadata": {},
   "source": [
    "With `random.seed()`, you can make results reproducible, and the chain of calls after `random.seed()` will produce the same trail of data. The sequence of random numbers becomes deterministic, or completely determined by the seed value."
   ]
  },
  {
   "cell_type": "code",
   "execution_count": 52,
   "metadata": {},
   "outputs": [
    {
     "name": "stdout",
     "output_type": "stream",
     "text": [
      "Seeding with 1...\n",
      "\n",
      "0.13436424411240122\n",
      "8.626903632435095\n",
      "B\n",
      "\n",
      "Re-seeding with 42...\n",
      "\n",
      "0.6394267984578837\n",
      "1.2250967970040025\n",
      "E\n",
      "\n",
      "Re-seeding with 1...\n",
      "\n",
      "0.13436424411240122\n",
      "8.626903632435095\n",
      "B\n",
      "\n",
      "Re-seeding with 42...\n",
      "\n",
      "0.6394267984578837\n",
      "1.2250967970040025\n",
      "E\n"
     ]
    }
   ],
   "source": [
    "print('Seeding with 1...\\n')\n",
    "\n",
    "random.seed(1)\n",
    "print(random.random())\n",
    "print(random.uniform(1,10))\n",
    "print(random.choice(list(\"ABCDEFGHI\")))\n",
    "\n",
    "print('\\nRe-seeding with 42...\\n')\n",
    "random.seed(42)  # Re-seed\n",
    "\n",
    "print(random.random())\n",
    "print(random.uniform(1,10))\n",
    "print(random.choice(list(\"ABCDEFGHI\")))\n",
    "\n",
    "print('\\nRe-seeding with 1...\\n')\n",
    "random.seed(1)  # Re-seed\n",
    "\n",
    "print(random.random())\n",
    "print(random.uniform(1,10))\n",
    "print(random.choice(list(\"ABCDEFGHI\")))\n",
    "\n",
    "print('\\nRe-seeding with 42...\\n')\n",
    "random.seed(42)  # Re-seed\n",
    "\n",
    "print(random.random())\n",
    "print(random.uniform(1,10))\n",
    "print(random.choice(list(\"ABCDEFGHI\")))"
   ]
  },
  {
   "cell_type": "markdown",
   "metadata": {},
   "source": [
    "## The secrets module\n",
    "The secrets module is used for generating cryptographically strong random numbers suitable for managing data such as passwords, account authentication, security tokens, and related secrets.  \n",
    "In particularly, secrets should be used in preference to the default pseudo-random number generator in the random module, which is designed for modelling and simulation, not security or cryptography."
   ]
  },
  {
   "cell_type": "code",
   "execution_count": 53,
   "metadata": {},
   "outputs": [
    {
     "name": "stdout",
     "output_type": "stream",
     "text": [
      "6\n",
      "6\n",
      "E\n"
     ]
    }
   ],
   "source": [
    "import secrets\n",
    "\n",
    "# random integer in range [0, n).\n",
    "a = secrets.randbelow(10)\n",
    "print(a)\n",
    "\n",
    "# return an integer with k random bits.\n",
    "a = secrets.randbits(5)\n",
    "print(a)\n",
    "\n",
    "# choose a random element from a sequence\n",
    "a = secrets.choice(list(\"ABCDEFGHI\"))\n",
    "print(a)"
   ]
  },
  {
   "cell_type": "markdown",
   "metadata": {},
   "source": [
    "## Random numbers with NumPy\n",
    "Create random numbers for nd arrays. The NumPy pseudorandom number generator is different from the Python standard library pseudorandom number generator.  \n",
    "Importantly, seeding the Python pseudorandom number generator does not impact the NumPy pseudorandom number generator. It must be seeded and used separately."
   ]
  },
  {
   "cell_type": "code",
   "execution_count": 2,
   "metadata": {},
   "outputs": [
    {
     "name": "stdout",
     "output_type": "stream",
     "text": [
      "[4.17022005e-01 7.20324493e-01 1.14374817e-04]\n",
      "[4.17022005e-01 7.20324493e-01 1.14374817e-04]\n",
      "[[5 0 0]\n",
      " [1 7 6]\n",
      " [9 2 4]\n",
      " [5 2 4]\n",
      " [2 4 7]]\n",
      "[-2.29230928 -1.41555249  0.8858294   0.63190187  0.04026035]\n",
      "[[4 5 6]\n",
      " [7 8 9]\n",
      " [1 2 3]]\n"
     ]
    }
   ],
   "source": [
    "import numpy as np\n",
    "\n",
    "np.random.seed(1)\n",
    "# rand(d0,d1,…,dn)\n",
    "# generate nd array with random floats, arrays has size (d0,d1,…,dn)\n",
    "print(np.random.rand(3))\n",
    "# reset the seed\n",
    "np.random.seed(1)\n",
    "print(np.random.rand(3))\n",
    "\n",
    "# generate nd array with random integers in range [a,b) with size n\n",
    "values = np.random.randint(0, 10, (5,3))\n",
    "print(values)\n",
    "\n",
    "# generate nd array with Gaussian values, array has size (d0,d1,…,dn)\n",
    "# values from standard normal distribution with mean 0.0 and standard deviation 1.0\n",
    "values = np.random.randn(5)\n",
    "print(values)\n",
    "\n",
    "# randomly shuffle a nd array.\n",
    "# only shuffles the array along the first axis of a multi-dimensional array\n",
    "arr = np.array([[1,2,3], [4,5,6], [7,8,9]])\n",
    "np.random.shuffle(arr)\n",
    "print(arr)"
   ]
  }
 ],
 "metadata": {
  "kernelspec": {
   "display_name": "Python [conda env:pythonengineer_env]",
   "language": "python",
   "name": "conda-env-pythonengineer_env-py"
  },
  "language_info": {
   "codemirror_mode": {
    "name": "ipython",
    "version": 3
   },
   "file_extension": ".py",
   "mimetype": "text/x-python",
   "name": "python",
   "nbconvert_exporter": "python",
   "pygments_lexer": "ipython3",
   "version": "3.7.3"
  }
 },
 "nbformat": 4,
 "nbformat_minor": 2
}
