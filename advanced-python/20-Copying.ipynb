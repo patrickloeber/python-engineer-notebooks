{
 "cells": [
  {
   "cell_type": "markdown",
   "metadata": {},
   "source": [
    "[![Open in Colab](https://colab.research.google.com/assets/colab-badge.svg)](https://colab.research.google.com/github/python-engineer/python-engineer-notebooks/blob/master/advanced-python/20-Copying.ipynb)"
   ]
  },
  {
   "cell_type": "markdown",
   "metadata": {},
   "source": [
    "# Shallow vs deep copying\n",
    "In Python, assignment statements (`obj_b = obj_a`) do not create real copies. It only creates a new variable with the same reference. So when you want to make actual copies of mutable objects (lists, dicts) and want to modify the copy without affecting the original, you have to be careful.  \n",
    "For 'real' copies we can use the `copy` module. However, for compound/nested objects (e.g. nested lists or dicts) and custom objects there is an important difference between **shallow** and **deep** copying:\n",
    "- shallow copies: Only *one level deep*. It creates a new collection object and populates it with references to the nested objects. This means modyfing a nested object in the copy deeper than one level affects the original.\n",
    "- deep copies: A *full independent clone*. It creates a new collection object and then recursively populates it with copies of the nested objects found in the original."
   ]
  },
  {
   "cell_type": "markdown",
   "metadata": {},
   "source": [
    "## Assignment operation\n",
    "This will only create a new variable with the same reference. Modifying one will affect the other."
   ]
  },
  {
   "cell_type": "code",
   "execution_count": 16,
   "metadata": {},
   "outputs": [
    {
     "name": "stdout",
     "output_type": "stream",
     "text": [
      "[-10, 2, 3, 4, 5]\n",
      "[-10, 2, 3, 4, 5]\n"
     ]
    }
   ],
   "source": [
    "list_a = [1, 2, 3, 4, 5]\n",
    "list_b = list_a\n",
    "\n",
    "list_a[0] = -10\n",
    "print(list_a)\n",
    "print(list_b)"
   ]
  },
  {
   "cell_type": "markdown",
   "metadata": {},
   "source": [
    "## Shallow copy\n",
    "One level deep. Modifying on level 1 does not affect the other list. Use `copy.copy()`, or object-specific copy functions/copy constructors."
   ]
  },
  {
   "cell_type": "code",
   "execution_count": 17,
   "metadata": {},
   "outputs": [
    {
     "name": "stdout",
     "output_type": "stream",
     "text": [
      "[1, 2, 3, 4, 5]\n",
      "[-10, 2, 3, 4, 5]\n"
     ]
    }
   ],
   "source": [
    "import copy\n",
    "list_a = [1, 2, 3, 4, 5]\n",
    "list_b = copy.copy(list_a)\n",
    "\n",
    "# not affects the other list\n",
    "list_b[0] = -10\n",
    "print(list_a)\n",
    "print(list_b)"
   ]
  },
  {
   "cell_type": "markdown",
   "metadata": {},
   "source": [
    "But with nested objects, modifying on level 2 or deeper does affect the other!"
   ]
  },
  {
   "cell_type": "code",
   "execution_count": 18,
   "metadata": {},
   "outputs": [
    {
     "name": "stdout",
     "output_type": "stream",
     "text": [
      "[[-10, 2, 3, 4, 5], [6, 7, 8, 9, 10]]\n",
      "[[-10, 2, 3, 4, 5], [6, 7, 8, 9, 10]]\n"
     ]
    }
   ],
   "source": [
    "import copy\n",
    "list_a = [[1, 2, 3, 4, 5], [6, 7, 8, 9, 10]]\n",
    "list_b = copy.copy(list_a)\n",
    "\n",
    "# affects the other!\n",
    "list_a[0][0]= -10\n",
    "print(list_a)\n",
    "print(list_b)"
   ]
  },
  {
   "cell_type": "markdown",
   "metadata": {},
   "source": [
    "Note: You can also use the following to create shallow copies"
   ]
  },
  {
   "cell_type": "code",
   "execution_count": 20,
   "metadata": {
    "collapsed": true
   },
   "outputs": [],
   "source": [
    "# shallow copies\n",
    "list_b = list(list_a)\n",
    "list_b = list_a[:]\n",
    "list_b = list_a.copy()"
   ]
  },
  {
   "cell_type": "markdown",
   "metadata": {},
   "source": [
    "## Deep copies\n",
    "Full independent clones. Use `copy.deepcopy()`."
   ]
  },
  {
   "cell_type": "code",
   "execution_count": 27,
   "metadata": {},
   "outputs": [
    {
     "name": "stdout",
     "output_type": "stream",
     "text": [
      "[[-10, 2, 3, 4, 5], [6, 7, 8, 9, 10]]\n",
      "[[1, 2, 3, 4, 5], [6, 7, 8, 9, 10]]\n"
     ]
    }
   ],
   "source": [
    "import copy\n",
    "list_a = [[1, 2, 3, 4, 5], [6, 7, 8, 9, 10]]\n",
    "list_b = copy.deepcopy(list_a)\n",
    "\n",
    "# not affects the other\n",
    "list_a[0][0]= -10\n",
    "print(list_a)\n",
    "print(list_b)"
   ]
  },
  {
   "cell_type": "markdown",
   "metadata": {},
   "source": [
    "## Custom objects\n",
    "You can use the `copy` module to get shallow or deep copies of custom objects."
   ]
  },
  {
   "cell_type": "code",
   "execution_count": 28,
   "metadata": {},
   "outputs": [
    {
     "name": "stdout",
     "output_type": "stream",
     "text": [
      "28\n",
      "28\n"
     ]
    }
   ],
   "source": [
    "class Person:\n",
    "    def __init__(self, name, age):\n",
    "        self.name = name\n",
    "        self.age = age\n",
    "                \n",
    "# Only copies the reference\n",
    "p1 = Person('Alex', 27)\n",
    "p2 = p1\n",
    "p2.age = 28\n",
    "print(p1.age)\n",
    "print(p2.age)"
   ]
  },
  {
   "cell_type": "code",
   "execution_count": 30,
   "metadata": {},
   "outputs": [
    {
     "name": "stdout",
     "output_type": "stream",
     "text": [
      "27\n",
      "28\n"
     ]
    }
   ],
   "source": [
    "# shallow copy\n",
    "import copy\n",
    "p1 = Person('Alex', 27)\n",
    "p2 = copy.copy(p1)\n",
    "p2.age = 28\n",
    "print(p1.age)\n",
    "print(p2.age)"
   ]
  },
  {
   "cell_type": "code",
   "execution_count": 33,
   "metadata": {},
   "outputs": [
    {
     "name": "stdout",
     "output_type": "stream",
     "text": [
      "56\n",
      "56\n",
      "\n",
      "55\n",
      "56\n"
     ]
    }
   ],
   "source": [
    "class Company:\n",
    "    def __init__(self, boss, employee):\n",
    "        self. boss = boss\n",
    "        self.employee = employee\n",
    "\n",
    "# shallow copy will affect nested objects\n",
    "boss = Person('Jane', 55)\n",
    "employee = Person('Joe', 28)\n",
    "company = Company(boss, employee)\n",
    "\n",
    "company_clone = copy.copy(company)\n",
    "company_clone.boss.age = 56\n",
    "print(company.boss.age)\n",
    "print(company_clone.boss.age)\n",
    "\n",
    "print()\n",
    "# deep copy will not affect nested objects\n",
    "boss = Person('Jane', 55)\n",
    "employee = Person('Joe', 28)\n",
    "company = Company(boss, employee)\n",
    "company_clone = copy.deepcopy(company)\n",
    "company_clone.boss.age = 56\n",
    "print(company.boss.age)\n",
    "print(company_clone.boss.age)"
   ]
  }
 ],
 "metadata": {
  "kernelspec": {
   "display_name": "Python [conda env:pythonengineer_env]",
   "language": "python",
   "name": "conda-env-pythonengineer_env-py"
  },
  "language_info": {
   "codemirror_mode": {
    "name": "ipython",
    "version": 3
   },
   "file_extension": ".py",
   "mimetype": "text/x-python",
   "name": "python",
   "nbconvert_exporter": "python",
   "pygments_lexer": "ipython3",
   "version": "3.7.3"
  }
 },
 "nbformat": 4,
 "nbformat_minor": 2
}
