{
 "cells": [
  {
   "cell_type": "markdown",
   "metadata": {},
   "source": [
    "# Strings\n",
    "A string is a sequence of characters. String literals in Python are enclosed by either double or single quotes.\n",
    "\n",
    "`my_string = 'Hello'`\n",
    "\n",
    "Python strings are immutable which means they cannot be changed after they are created."
   ]
  },
  {
   "cell_type": "markdown",
   "metadata": {},
   "source": [
    "#### Creation"
   ]
  },
  {
   "cell_type": "code",
   "execution_count": 1,
   "metadata": {},
   "outputs": [
    {
     "name": "stdout",
     "output_type": "stream",
     "text": [
      "\n",
      "<class 'str'>\n",
      "I' m a 'Geek'\n",
      "Hello\n",
      "World\n",
      "Hello World!!! How are you?\n"
     ]
    }
   ],
   "source": [
    "# Creation of empty string\n",
    "new_string = ''\n",
    "print(new_string)\n",
    "print(type(new_string))\n",
    "\n",
    "# use singe or double quotes\n",
    "my_string = 'Hello'\n",
    "my_string = \"Hello\"\n",
    "my_string = \"I' m  a 'Geek'\"\n",
    "\n",
    "# escaping backslash\n",
    "my_string = 'I\\' m  a \"Geek\"'\n",
    "my_string = 'I\\' m a \\'Geek\\''\n",
    "print(my_string)\n",
    "\n",
    "# triple quotes for multiline strings(DocString)\n",
    "my_string = \"\"\"Hello\n",
    "World\"\"\"\n",
    "print(my_string)\n",
    "\n",
    "# backslash if you want to continue in the next line\n",
    "my_string = \"Hello \\\n",
    "World!!! \\\n",
    "How \\\n",
    "are \\\n",
    "you?\"\n",
    "print(my_string)"
   ]
  },
  {
   "cell_type": "markdown",
   "metadata": {},
   "source": [
    "#### Access characters and substrings"
   ]
  },
  {
   "cell_type": "code",
   "execution_count": 2,
   "metadata": {},
   "outputs": [
    {
     "name": "stdout",
     "output_type": "stream",
     "text": [
      "H\n",
      "el\n",
      "Hello\n",
      "World\n",
      "HloWrd\n",
      "el ol\n",
      "dlroW olleH\n"
     ]
    }
   ],
   "source": [
    "my_string = \"Hello World\"\n",
    "\n",
    "# get character by referring to index\n",
    "b = my_string[0]\n",
    "print(b)\n",
    "\n",
    "# Substrings with slicing\n",
    "b = my_string[1:3] # Note that the last index is not included\n",
    "print(b)\n",
    "b = my_string[:5] # from beginning\n",
    "print(b)\n",
    "b = my_string[6:] # until the end\n",
    "print(b)\n",
    "b = my_string[::2] # start to end with every second item\n",
    "print(b)\n",
    "b = my_string[1::2] # Retrieve characters at odd index\n",
    "print(b)\n",
    "b = my_string[::-1] # reverse the string with a negative step:\n",
    "print(b)"
   ]
  },
  {
   "cell_type": "markdown",
   "metadata": {},
   "source": [
    "#### Concatenate two or more strings"
   ]
  },
  {
   "cell_type": "code",
   "execution_count": 3,
   "metadata": {},
   "outputs": [
    {
     "name": "stdout",
     "output_type": "stream",
     "text": [
      "Hello Tom\n"
     ]
    }
   ],
   "source": [
    "# concat strings with +\n",
    "greeting = \"Hello\"\n",
    "name = \"Tom\"\n",
    "sentence = greeting + ' ' + name\n",
    "print(sentence)"
   ]
  },
  {
   "cell_type": "markdown",
   "metadata": {},
   "source": [
    "#### Iterating"
   ]
  },
  {
   "cell_type": "code",
   "execution_count": 4,
   "metadata": {},
   "outputs": [
    {
     "name": "stdout",
     "output_type": "stream",
     "text": [
      "H\n",
      "e\n",
      "l\n",
      "l\n",
      "o\n"
     ]
    }
   ],
   "source": [
    "# Iterating over a string by using a for in loop\n",
    "my_string = 'Hello'\n",
    "for i in my_string:\n",
    "    print(i)"
   ]
  },
  {
   "cell_type": "markdown",
   "metadata": {},
   "source": [
    "#### Check if a character or substring exists"
   ]
  },
  {
   "cell_type": "code",
   "execution_count": 5,
   "metadata": {},
   "outputs": [
    {
     "name": "stdout",
     "output_type": "stream",
     "text": [
      "No\n",
      "yes\n"
     ]
    }
   ],
   "source": [
    "if \"m\" in \"Hello\":\n",
    "    print(\"yes\")\n",
    "else:\n",
    "    print(\"No\")\n",
    "if \"llo\" in \"Hello\":\n",
    "    print(\"yes\")\n",
    "else:\n",
    "    print(\"No\")"
   ]
  },
  {
   "cell_type": "markdown",
   "metadata": {},
   "source": [
    "#### Useful methods"
   ]
  },
  {
   "cell_type": "code",
   "execution_count": 6,
   "metadata": {},
   "outputs": [
    {
     "name": "stdout",
     "output_type": "stream",
     "text": [
      "$     $$Hello# W@orld* 22\n",
      "$     $$Hello# W@orld*       28\n",
      "$     $$Hello# W@orld* 22\n",
      "     $$Hello# W@orld*      \n",
      "HelloWorld\n",
      "28\n",
      "$     $$HELLO# W@ORLD*      \n",
      "$     $$Hello# W@Orld*      \n",
      "$     $$hello# w@orld*      \n",
      "$     $$hello# w@orld*      \n",
      "True\n",
      "False\n",
      "True\n",
      "False\n",
      "4\n",
      "5\n",
      "2\n",
      "5\n",
      "1\n",
      "Hello Universe\n",
      "['how', 'are', 'you', 'doing']\n",
      "['one', 'two', 'three']\n",
      "How are you doing\n",
      "one,two,three*******\n",
      "*******one,two,three\n",
      "***one,two,three****\n"
     ]
    }
   ],
   "source": [
    "my_string = \"$     $$Hello# W@orld*      \"\n",
    "\n",
    "# Remove white spaces at both ends of string\n",
    "print(my_string.strip(),len(my_string.strip()))\n",
    "\n",
    "# Remove white spaces at left ends of string\n",
    "print(my_string.lstrip(),len(my_string.lstrip()))\n",
    "\n",
    "# Remove white spaces at Right ends of string\n",
    "print(my_string.rstrip(),len(my_string.rstrip()))\n",
    "\n",
    "# Remove unwanted characters at both ends of string\n",
    "print(my_string.strip('$#@*'))                     # It will remove first $ but not at the middle\n",
    "\n",
    "# Remove unwanted characters from string\n",
    "print(''.join(filter(str.isalnum,my_string)))      # It will remove all non-alpha-numeric characters\n",
    "\n",
    "# number of characters\n",
    "print(len(my_string))\n",
    "\n",
    "# Change case of sting\n",
    "print(my_string.upper())     # To convert string in upper case\n",
    "print(my_string.title())     # To convert string in title case \n",
    "print(my_string.lower())     # To convert string in lower case\n",
    "print(my_string.casefold())  # To convert string in lower case including special notations of other languages\n",
    "\n",
    "# Check whether string starts with or ends with specific characters: It returns boolean output\n",
    "print(\"hello\".startswith(\"he\"))   # True\n",
    "print(\"hello\".startswith(\"eh\"))   # False\n",
    "print(\"hello\".endswith(\"llo\"))    # True\n",
    "print(\"hello\".endswith(\"lol\"))    # False\n",
    "\n",
    "# find first index of a given substring, -1 otherwise\n",
    "print(\"Hello\".find(\"o\"))\n",
    "\n",
    "# find last index of a given substring, -1 otherwise\n",
    "print(\"Heollo\".rfind(\"o\"))\n",
    "\n",
    "# Return first index of a given substring, ValueError otherwise\n",
    "print(\"Heollo\".index(\"o\"))\n",
    "\n",
    "# Return last index of a given substring, ValueError otherwise\n",
    "print(\"Heollo\".rindex(\"o\"))\n",
    "\n",
    "# count number of characters/substrings\n",
    "print(\"Hello\".count(\"e\"))\n",
    "\n",
    "# replace a substring with another string (only if the substring is found)\n",
    "# Note: The original string stays the same\n",
    "message = \"Hello World\"\n",
    "new_message = message.replace(\"World\", \"Universe\")\n",
    "print(new_message)\n",
    "\n",
    "# split the string into a list\n",
    "my_string = \"how are you doing\"\n",
    "a = my_string.split() # default argument is \" \"\n",
    "print(a)\n",
    "my_string = \"one,two,three\"\n",
    "a = my_string.split(\",\")\n",
    "print(a)\n",
    "\n",
    "# join elements of a list into a string\n",
    "my_list = ['How', 'are', 'you', 'doing']\n",
    "a = ' '.join(my_list) # the given string is the separator, e.g. ' ' between each argument\n",
    "print(a)\n",
    "\n",
    "# Change string allignment\n",
    "print(my_string.ljust(20,'*'))     # Left allignment\n",
    "print(my_string.rjust(20,'*'))     # right allignment\n",
    "print(my_string.center(20,'*'))    # center allignment"
   ]
  },
  {
   "cell_type": "markdown",
   "metadata": {},
   "source": [
    "#### Format\n",
    "New style is with .format() and old style is with % operator."
   ]
  },
  {
   "cell_type": "code",
   "execution_count": 7,
   "metadata": {},
   "outputs": [
    {
     "name": "stdout",
     "output_type": "stream",
     "text": [
      "Hello Bob and Tom\n",
      "Hello Bob and Tom\n",
      "Hello Tom and Bob\n",
      "The integer value is 2\n",
      "The float value is 2.123\n",
      "The float value is 2.123400e+00\n",
      "The binary value is 10\n",
      "Hello Bob and Tom\n",
      "The decimal value is 3\n",
      "The float value is 3.141593\n",
      "The float value is 3.14\n"
     ]
    }
   ],
   "source": [
    "# use braces as placeholders\n",
    "a = \"Hello {0} and {1}\".format(\"Bob\", \"Tom\")\n",
    "print(a)\n",
    "\n",
    "# the positions are optional for the default order\n",
    "a = \"Hello {} and {}\".format(\"Bob\", \"Tom\")\n",
    "print(a)\n",
    "\n",
    "# Its possible to change order\n",
    "a = \"Hello {1} and {0}\".format(\"Bob\", \"Tom\")\n",
    "print(a)\n",
    "\n",
    "a = \"The integer value is {}\".format(2)\n",
    "print(a)\n",
    "\n",
    "# some special format rules for numbers\n",
    "a = \"The float value is {0:.3f}\".format(2.1234)\n",
    "print(a)\n",
    "a = \"The float value is {0:e}\".format(2.1234)\n",
    "print(a)\n",
    "a = \"The binary value is {0:b}\".format(2)\n",
    "print(a)\n",
    "\n",
    "# old style formatting by using % operator\n",
    "print(\"Hello %s and %s\" % (\"Bob\", \"Tom\")) # must be a tuple for multiple arguments\n",
    "val =  3.14159265359\n",
    "print(\"The decimal value is %d\" % val)\n",
    "print(\"The float value is %f\" % val)\n",
    "print(\"The float value is %.2f\" % val)"
   ]
  },
  {
   "cell_type": "markdown",
   "metadata": {},
   "source": [
    "#### f-Strings\n",
    "New since Python 3.6. Use the variables directly inside the braces."
   ]
  },
  {
   "cell_type": "code",
   "execution_count": 8,
   "metadata": {},
   "outputs": [
    {
     "name": "stdout",
     "output_type": "stream",
     "text": [
      "Hello, Eric. You are 25.\n",
      "Pi is 3.142\n",
      "The value is 120\n"
     ]
    }
   ],
   "source": [
    "name = \"Eric\"\n",
    "age = 25\n",
    "a = f\"Hello, {name}. You are {age}.\"\n",
    "print(a)\n",
    "pi = 3.14159\n",
    "a = f\"Pi is {pi:.3f}\"\n",
    "print(a)\n",
    "# f-Strings are evaluated at runtime, which allows expressions\n",
    "a = f\"The value is {2*60}\"\n",
    "print(a)"
   ]
  },
  {
   "cell_type": "markdown",
   "metadata": {},
   "source": [
    "#### More on immutability and concatenation"
   ]
  },
  {
   "cell_type": "code",
   "execution_count": 9,
   "metadata": {},
   "outputs": [
    {
     "name": "stdout",
     "output_type": "stream",
     "text": [
      "concatenate string with + : 0.34796\n",
      "concatenate string with join(): 0.01090\n"
     ]
    }
   ],
   "source": [
    "# since a string is immutable, adding strings with +,  or += always \n",
    "# creates a new string, and therefore is expensive for multiple operations\n",
    "# --> join method is much faster\n",
    "from timeit import default_timer as timer\n",
    "my_list = [\"a\"] * 1000000\n",
    "\n",
    "# bad\n",
    "start = timer()\n",
    "a = \"\"\n",
    "for i in my_list:\n",
    "    a += i\n",
    "end = timer()\n",
    "print(\"concatenate string with + : %.5f\" % (end - start))\n",
    "\n",
    "# good\n",
    "start = timer()\n",
    "a = \"\".join(my_list)\n",
    "end = timer()\n",
    "print(\"concatenate string with join(): %.5f\" % (end - start))"
   ]
  }
 ],
 "metadata": {
  "kernelspec": {
   "display_name": "Python 3",
   "language": "python",
   "name": "python3"
  },
  "language_info": {
   "codemirror_mode": {
    "name": "ipython",
    "version": 3
   },
   "file_extension": ".py",
   "mimetype": "text/x-python",
   "name": "python",
   "nbconvert_exporter": "python",
   "pygments_lexer": "ipython3",
   "version": "3.8.8"
  }
 },
 "nbformat": 4,
 "nbformat_minor": 2
}
